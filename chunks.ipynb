import pandas as pd

file_path = '/Users/fabrizioferrari/Desktop/OG.csv'
chunksize = 10 ** 6

training_set = '/Users/fabrizioferrari/Desktop/final boss/Training_Set.csv'
test_set = '/Users/fabrizioferrari/Desktop/final boss/Test_Set.csv'

# Initialize empty CSV files with headers
for chunk in pd.read_csv(file_path, chunksize=chunksize):
    chunk['Fecha Cierre'] = pd.to_datetime(chunk['Fecha Cierre'], format='%m/%d/%Y', errors='coerce')
    chunk['Fecha Colocacion'] = pd.to_datetime(chunk['Fecha Colocacion'], format='%m/%d/%Y', errors='coerce')
    chunk = chunk[chunk['Score'] != 0]
    
    chunk_sorted = chunk.sort_values(by=['Operacion', 'Fecha Cierre'])
    
    training_split = chunk_sorted[chunk_sorted['Fecha Colocacion'].dt.month <= 9]
    test_split = chunk_sorted[chunk_sorted['Fecha Colocacion'].dt.month >= 10]
    
    training_split.to_csv(training_set, mode='a', index=False, header=not pd.io.common.file_exists(training_set))
    test_split.to_csv(test_set, mode='a', index=False, header=not pd.io.common.file_exists(test_set))

print(f"Data has been sorted and saved to {training_set} and {test_set}")
